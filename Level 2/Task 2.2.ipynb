{
 "cells": [
  {
   "cell_type": "markdown",
   "id": "cdd1872f",
   "metadata": {},
   "source": [
    "**Task: Price Range Analysis**\n",
    "1. Determine the most common price range among all the restaurants.\n",
    "2. Calculate the average rating for each price range.\n",
    "3. Identify the color that represents the highest average rating among different price ranges."
   ]
  },
  {
   "cell_type": "code",
   "execution_count": null,
   "id": "280daf6d",
   "metadata": {},
   "outputs": [],
   "source": [
    "#import modules and dataset\n",
    "\n",
    "import warnings\n",
    "warnings.filterwarnings(\"ignore\")\n",
    "import numpy as np\n",
    "import pandas as pd\n",
    "import matplotlib.pyplot as plt\n",
    "import seaborn as sns;sns.set(color_codes=True)\n",
    "%matplotlib inline\n",
    "\n",
    "df = pd.read_csv(r\"C:\\Users\\anjal\\OneDrive\\Desktop\\CODES\\Cognifyz DS Internship\\Dataset.csv\")"
   ]
  },
  {
   "cell_type": "markdown",
   "id": "fc0c48d2",
   "metadata": {},
   "source": [
    "*1. Determine the most common price range among all the restaurants.*"
   ]
  },
  {
   "cell_type": "code",
   "execution_count": null,
   "id": "1f5a4cf1",
   "metadata": {},
   "outputs": [],
   "source": [
    "most_common_price_range = df['Price range'].value_counts().idxmax()\n",
    "print(f\"Most Common Price Range: {most_common_price_range}\")"
   ]
  },
  {
   "cell_type": "markdown",
   "id": "f6b919b3",
   "metadata": {},
   "source": [
    "*2. Calculate the average rating for each price range.*"
   ]
  },
  {
   "cell_type": "code",
   "execution_count": null,
   "id": "d105f20c",
   "metadata": {},
   "outputs": [],
   "source": [
    "avg_rating_by_price = df.groupby('Price range')['Aggregate rating'].mean().sort_index()\n",
    "print(\"Average Rating by Price Range:\\n\", avg_rating_by_price)"
   ]
  },
  {
   "cell_type": "markdown",
   "id": "ce701748",
   "metadata": {},
   "source": [
    "*3. Identify the color that represents the highest average rating among different price ranges.*"
   ]
  },
  {
   "cell_type": "code",
   "execution_count": 4,
   "id": "52705ee1",
   "metadata": {},
   "outputs": [
    {
     "name": "stdout",
     "output_type": "stream",
     "text": [
      "Top Rating Color by Price Range:\n",
      "     Price range Rating color  Aggregate rating\n",
      "0             1   Dark Green          4.668750\n",
      "6             2   Dark Green          4.627536\n",
      "12            3   Dark Green          4.646032\n",
      "18            4   Dark Green          4.709459\n"
     ]
    }
   ],
   "source": [
    "# Group by Price range and Rating color, then calculate average rating\n",
    "color_rating_by_price = df.groupby(['Price range', 'Rating color'])['Aggregate rating'].mean().reset_index()\n",
    "\n",
    "# For each price range, find the color with highest average rating\n",
    "top_color_by_price = color_rating_by_price.sort_values(['Price range', 'Aggregate rating'], ascending=[True, False]).drop_duplicates('Price range')\n",
    "print(\"Top Rating Color by Price Range:\\n\", top_color_by_price[['Price range', 'Rating color', 'Aggregate rating']])\n"
   ]
  }
 ],
 "metadata": {
  "kernelspec": {
   "display_name": "Python 3",
   "language": "python",
   "name": "python3"
  },
  "language_info": {
   "codemirror_mode": {
    "name": "ipython",
    "version": 3
   },
   "file_extension": ".py",
   "mimetype": "text/x-python",
   "name": "python",
   "nbconvert_exporter": "python",
   "pygments_lexer": "ipython3",
   "version": "3.13.1"
  }
 },
 "nbformat": 4,
 "nbformat_minor": 5
}
