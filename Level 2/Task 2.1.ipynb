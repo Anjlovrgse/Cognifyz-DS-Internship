{
 "cells": [
  {
   "cell_type": "markdown",
   "id": "2be941ae",
   "metadata": {},
   "source": [
    "**Task: Table Booking and Online Delivery**\n",
    "\n",
    "1. Determine the percentage of restaurants that offer table booking and online delivery.\n",
    "\n",
    "2. Compare the average ratings of restaurants with table booking and those without.\n",
    "\n",
    "3. Analyze the availability of online delivery among restaurants with different price ranges."
   ]
  },
  {
   "cell_type": "code",
   "execution_count": 9,
   "id": "8c3ef5d7",
   "metadata": {},
   "outputs": [],
   "source": [
    "#import modules and dataset\n",
    "\n",
    "import warnings\n",
    "warnings.filterwarnings(\"ignore\")\n",
    "import numpy as np\n",
    "import pandas as pd\n",
    "import matplotlib.pyplot as plt\n",
    "import seaborn as sns;sns.set(color_codes=True)\n",
    "%matplotlib inline\n",
    "\n",
    "df = pd.read_csv(r\"C:\\Users\\anjal\\OneDrive\\Desktop\\CODES\\Cognifyz DS Internship\\Dataset.csv\")"
   ]
  },
  {
   "cell_type": "markdown",
   "id": "4300cf36",
   "metadata": {},
   "source": [
    "*1. Determine the percentage of restaurants that offer table booking and online delivery.*"
   ]
  },
  {
   "cell_type": "code",
   "execution_count": 10,
   "id": "854e90dc",
   "metadata": {},
   "outputs": [
    {
     "name": "stdout",
     "output_type": "stream",
     "text": [
      "📅 Table Booking Available: 12.12%\n",
      "📦 Online Delivery Available: 25.66%\n"
     ]
    }
   ],
   "source": [
    "# Total number of restaurants\n",
    "total = len(df)\n",
    "\n",
    "# Table booking\n",
    "table_booking_pct = (df['Has Table booking'].str.lower() == 'yes').sum() / total * 100\n",
    "\n",
    "# Online delivery\n",
    "online_delivery_pct = (df['Has Online delivery'].str.lower() == 'yes').sum() / total * 100\n",
    "\n",
    "print(f\"📅 Table Booking Available: {table_booking_pct:.2f}%\")\n",
    "print(f\"📦 Online Delivery Available: {online_delivery_pct:.2f}%\")\n"
   ]
  },
  {
   "cell_type": "markdown",
   "id": "875cb88e",
   "metadata": {},
   "source": [
    "*2. Compare the average ratings of restaurants with table booking and those without.*"
   ]
  },
  {
   "cell_type": "code",
   "execution_count": 11,
   "id": "58660b0f",
   "metadata": {},
   "outputs": [
    {
     "name": "stdout",
     "output_type": "stream",
     "text": [
      "📊 Average Ratings by Table Booking Availability:\n",
      " Has Table booking\n",
      "no     2.559359\n",
      "yes    3.441969\n",
      "Name: Aggregate rating, dtype: float64\n"
     ]
    }
   ],
   "source": [
    "# Convert to lowercase for consistency\n",
    "df['Has Table booking'] = df['Has Table booking'].str.lower()\n",
    "\n",
    "# Group by table booking status\n",
    "rating_comparison = df.groupby('Has Table booking')['Aggregate rating'].mean()\n",
    "print(\"📊 Average Ratings by Table Booking Availability:\\n\", rating_comparison)"
   ]
  },
  {
   "cell_type": "markdown",
   "id": "2d023016",
   "metadata": {},
   "source": [
    "*3. Analyze the availability of online delivery among restaurants with different price ranges.*"
   ]
  },
  {
   "cell_type": "code",
   "execution_count": 12,
   "id": "538bf130",
   "metadata": {},
   "outputs": [
    {
     "name": "stdout",
     "output_type": "stream",
     "text": [
      "📦 Online Delivery Distribution by Price Range:\n",
      " Has Online delivery    no   yes\n",
      "Price range                    \n",
      "1                    3743   701\n",
      "2                    1827  1286\n",
      "3                     997   411\n",
      "4                     533    53\n",
      "\n",
      "(%) Online Delivery Percentage by Price Range:\n",
      " Has Online delivery         no        yes\n",
      "Price range                              \n",
      "1                    84.225923  15.774077\n",
      "2                    58.689367  41.310633\n",
      "3                    70.809659  29.190341\n",
      "4                    90.955631   9.044369\n"
     ]
    }
   ],
   "source": [
    "# Normalize Online Delivery column\n",
    "df['Has Online delivery'] = df['Has Online delivery'].str.lower()\n",
    "\n",
    "# Count of online delivery availability across price ranges\n",
    "online_by_price = df.groupby(['Price range', 'Has Online delivery']).size().unstack().fillna(0)\n",
    "\n",
    "# Optional: Convert to percentage\n",
    "online_by_price_pct = (online_by_price.T / online_by_price.sum(axis=1)).T * 100\n",
    "\n",
    "print(\"📦 Online Delivery Distribution by Price Range:\\n\", online_by_price)\n",
    "print(\"\\n(%) Online Delivery Percentage by Price Range:\\n\", online_by_price_pct)\n"
   ]
  }
 ],
 "metadata": {
  "kernelspec": {
   "display_name": "Python 3",
   "language": "python",
   "name": "python3"
  },
  "language_info": {
   "codemirror_mode": {
    "name": "ipython",
    "version": 3
   },
   "file_extension": ".py",
   "mimetype": "text/x-python",
   "name": "python",
   "nbconvert_exporter": "python",
   "pygments_lexer": "ipython3",
   "version": "3.13.1"
  }
 },
 "nbformat": 4,
 "nbformat_minor": 5
}
