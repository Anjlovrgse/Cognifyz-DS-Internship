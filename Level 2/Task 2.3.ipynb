{
 "cells": [
  {
   "cell_type": "markdown",
   "id": "d9050155",
   "metadata": {},
   "source": [
    "**Task: Feature Engineering**\n",
    "1. Extract additional features from the existing columns, such as the length of the restaurant name or address.\n",
    "2. Create new features like \"Has Table Booking\" or \"Has Online Delivery\" by encoding categorical variables."
   ]
  },
  {
   "cell_type": "code",
   "execution_count": null,
   "id": "3bee497f",
   "metadata": {},
   "outputs": [],
   "source": [
    "import warnings\n",
    "warnings.filterwarnings(\"ignore\")\n",
    "import numpy as np\n",
    "import pandas as pd\n",
    "import matplotlib.pyplot as plt\n",
    "import seaborn as sns;sns.set(color_codes=True)\n",
    "%matplotlib inline\n",
    "\n",
    "df = pd.read_csv(r\"C:\\Users\\anjal\\OneDrive\\Desktop\\CODES\\Cognifyz DS Internship\\Dataset.csv\")"
   ]
  },
  {
   "cell_type": "markdown",
   "id": "dba923d1",
   "metadata": {},
   "source": [
    "*1. Extract additional features from the existing columns, such as the length of the restaurant name or address.*"
   ]
  },
  {
   "cell_type": "code",
   "execution_count": null,
   "id": "561add5f",
   "metadata": {},
   "outputs": [],
   "source": [
    "\n",
    "df['Restaurant Name Length'] = df['Restaurant Name'].apply(len)\n",
    "\n",
    "# 2. Word count in address\n",
    "df['Address Word Count'] = df['Address'].apply(lambda x: len(str(x).split()))\n",
    "\n",
    "# 3. Encode 'Has Table booking' and 'Has Online delivery' as numeric flags\n",
    "df['Has_Table_Booking_Flag'] = df['Has Table booking'].str.lower().map({'yes': 1, 'no': 0})\n",
    "df['Has_Online_Delivery_Flag'] = df['Has Online delivery'].str.lower().map({'yes': 1, 'no': 0})\n",
    "\n",
    "# ----- Show Outputs (first 10 rows) -----\n",
    "output_cols = [\n",
    "    'Restaurant Name', \n",
    "    'Restaurant Name Length', \n",
    "    'Address', \n",
    "    'Address Word Count', \n",
    "    'Has Table booking', \n",
    "    'Has_Table_Booking_Flag', \n",
    "    'Has Online delivery', \n",
    "    'Has_Online_Delivery_Flag'\n",
    "]\n",
    "\n",
    "# Display as a table\n",
    "print(df[output_cols].head(10).to_string(index=False))\n"
   ]
  },
  {
   "cell_type": "markdown",
   "id": "f1d25fd2",
   "metadata": {},
   "source": [
    "*2. Create new features like \"Has Table Booking\" or \"Has Online Delivery\" by encoding categorical variables.*"
   ]
  },
  {
   "cell_type": "code",
   "execution_count": null,
   "id": "58ee2063",
   "metadata": {},
   "outputs": [],
   "source": [
    "# Convert 'Yes' to 1 and 'No' to 0\n",
    "df['Has_Table_Booking_Flag'] = df['Has Table booking'].str.lower().map({'yes': 1, 'no': 0})\n",
    "df['Has_Online_Delivery_Flag'] = df['Has Online delivery'].str.lower().map({'yes': 1, 'no': 0})\n",
    "\n",
    "# Print the updated DataFrame\n",
    "print(df[['Has Table booking', 'Has_Table_Booking_Flag', 'Has Online delivery', 'Has_Online_Delivery_Flag']])"
   ]
  }
 ],
 "metadata": {
  "kernelspec": {
   "display_name": "Python 3",
   "language": "python",
   "name": "python3"
  },
  "language_info": {
   "codemirror_mode": {
    "name": "ipython",
    "version": 3
   },
   "file_extension": ".py",
   "mimetype": "text/x-python",
   "name": "python",
   "nbconvert_exporter": "python",
   "pygments_lexer": "ipython3",
   "version": "3.13.1"
  }
 },
 "nbformat": 4,
 "nbformat_minor": 5
}
