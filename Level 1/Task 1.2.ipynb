{
 "cells": [
  {
   "cell_type": "markdown",
   "id": "3c08c35b",
   "metadata": {},
   "source": [
    "**Task 2: Descriptive Analysis**\n",
    "\n",
    "1.Calculate basic statistical measures (mean,median, standard deviation, etc.) for numerical columns.\n",
    "\n",
    "2.Explore the distribution of categorical variables like \"Country Code,\" \"City,\" and\"Cuisines.\"\n",
    "\n",
    "3.Identify the top cuisines and cities with the highest number of restaurants.\n"
   ]
  },
  {
   "cell_type": "code",
   "execution_count": null,
   "id": "4a955e5a",
   "metadata": {},
   "outputs": [],
   "source": [
    "#import modules and dataset\n",
    "\n",
    "import warnings\n",
    "warnings.filterwarnings(\"ignore\")\n",
    "import numpy as np\n",
    "import pandas as pd\n",
    "import matplotlib.pyplot as plt\n",
    "import seaborn as sns;sns.set(color_codes=True)\n",
    "%matplotlib inline\n",
    "\n",
    "df = pd.read_csv(r\"C:\\Users\\anjal\\OneDrive\\Desktop\\CODES\\Cognifyz DS Internship\\Dataset.csv\")"
   ]
  },
  {
   "cell_type": "code",
   "execution_count": null,
   "id": "cbdc88a7",
   "metadata": {},
   "outputs": [],
   "source": [
    "# Basic statistics for numerical columns\n",
    "print(df.describe())"
   ]
  },
  {
   "cell_type": "markdown",
   "id": "a6fab092",
   "metadata": {},
   "source": [
    "*1.Calculate basic statistical measures (mean,median, standard deviation, etc.) for numerical columns.*"
   ]
  },
  {
   "cell_type": "code",
   "execution_count": null,
   "id": "88b1e100",
   "metadata": {},
   "outputs": [],
   "source": [
    "import numpy as np\n",
    "\n",
    "# Mean\n",
    "print(\"Means:\\n\", df.mean(numeric_only=True))\n",
    "\n",
    "# Median\n",
    "print(\"\\nMedians:\\n\", df.median(numeric_only=True))\n",
    "\n",
    "# Standard Deviation\n",
    "print(\"\\nStandard Deviations:\\n\", df.std(numeric_only=True))\n"
   ]
  },
  {
   "cell_type": "markdown",
   "id": "db46019f",
   "metadata": {},
   "source": [
    "*2.Explore the distribution of categorical variables like \"Country Code,\" \"City,\" and\"Cuisines.\"*"
   ]
  },
  {
   "cell_type": "code",
   "execution_count": null,
   "id": "978096dd",
   "metadata": {},
   "outputs": [],
   "source": [
    "#Country code\n",
    "print(\"Country Code Distribution:\\n\")\n",
    "print(df['Country Code'].value_counts())\n",
    "df['Country Code'].value_counts().head(10).plot(kind='bar', figsize=(8, 5), title='Top Country Codes')"
   ]
  },
  {
   "cell_type": "code",
   "execution_count": null,
   "id": "f8635462",
   "metadata": {},
   "outputs": [],
   "source": [
    "#City\n",
    "print(\"\\nCity Distribution:\\n\")\n",
    "print(df['City'].value_counts())\n",
    "df['City'].value_counts().head(10).plot(kind='bar', figsize=(10, 5), title='Top 10 Cities with Restaurants')"
   ]
  },
  {
   "cell_type": "code",
   "execution_count": null,
   "id": "6fb7483c",
   "metadata": {},
   "outputs": [],
   "source": [
    "#Cuisines\n",
    "print(\"\\nCuisines Distribution:\\n\")\n",
    "print(df['Cuisines'].value_counts())\n",
    "df['Cuisines'].value_counts().head(10).plot(kind='bar', figsize=(10, 5), title='Top 10 Cuisines')"
   ]
  },
  {
   "cell_type": "markdown",
   "id": "2040a1bc",
   "metadata": {},
   "source": [
    "*3.Identify the top cuisines and cities with the highest number of restaurants.*"
   ]
  },
  {
   "cell_type": "code",
   "execution_count": null,
   "id": "c234dcce",
   "metadata": {},
   "outputs": [],
   "source": [
    "#Top Cuisines\n",
    "top_cuisines = df['Cuisines'].value_counts().head(10)\n",
    "print(\"Top 10 Cuisines:\\n\", top_cuisines)\n",
    "top_cuisines.plot(kind='barh', figsize=(8, 5), title='Top 10 Cuisines')\n"
   ]
  },
  {
   "cell_type": "code",
   "execution_count": null,
   "id": "165cbd02",
   "metadata": {},
   "outputs": [],
   "source": [
    "#Top Cities with Most Restaurants\n",
    "\n",
    "top_cities = df['City'].value_counts().head(10)\n",
    "print(\"\\nTop 10 Cities:\\n\", top_cities)\n",
    "top_cities.plot(kind='barh', figsize=(8, 5), title='Top 10 Cities by Restaurant Count')\n"
   ]
  }
 ],
 "metadata": {
  "kernelspec": {
   "display_name": "Python 3",
   "language": "python",
   "name": "python3"
  },
  "language_info": {
   "codemirror_mode": {
    "name": "ipython",
    "version": 3
   },
   "file_extension": ".py",
   "mimetype": "text/x-python",
   "name": "python",
   "nbconvert_exporter": "python",
   "pygments_lexer": "ipython3",
   "version": "3.13.1"
  }
 },
 "nbformat": 4,
 "nbformat_minor": 5
}
