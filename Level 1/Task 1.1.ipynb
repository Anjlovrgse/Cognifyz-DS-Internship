{
 "cells": [
  {
   "cell_type": "markdown",
   "id": "deebefff",
   "metadata": {},
   "source": [
    " **Task 1: Data Exploration and Preprocessing** \n",
    "\n",
    "1.Explore the dataset and identify the number of rows and columns.\n",
    "\n",
    "2.Check for missing values in each column and handle them accordingly.\n",
    "\n",
    "3.Perform data type conversion if necessary.\n",
    "\n",
    "4.Analyze the distribution of the target variable\n",
    "(\"Aggregate rating\") and identify any class\n",
    "imbalances."
   ]
  },
  {
   "cell_type": "code",
   "execution_count": null,
   "id": "531e2292",
   "metadata": {},
   "outputs": [],
   "source": [
    "#import modules and dataset\n",
    "\n",
    "import warnings\n",
    "warnings.filterwarnings(\"ignore\")\n",
    "import numpy as np\n",
    "import pandas as pd\n",
    "import matplotlib.pyplot as plt\n",
    "import seaborn as sns;sns.set(color_codes=True)\n",
    "%matplotlib inline\n",
    "\n",
    "df = pd.read_csv(r\"C:\\Users\\anjal\\OneDrive\\Desktop\\CODES\\Cognifyz DS Internship\\Dataset.csv\")"
   ]
  },
  {
   "cell_type": "markdown",
   "id": "1bac0d61",
   "metadata": {},
   "source": [
    "*1. Explore the dataset and identify the number of rows and columns.*"
   ]
  },
  {
   "cell_type": "code",
   "execution_count": null,
   "id": "aa5c8317",
   "metadata": {},
   "outputs": [],
   "source": [
    "print(\"Number of rows:\", df.shape[0])\n",
    "print(\"Number of columns:\", df.shape[1])"
   ]
  },
  {
   "cell_type": "markdown",
   "id": "30850ed8",
   "metadata": {},
   "source": [
    "*2. Check for missing values in each column and handle them accordingly.*"
   ]
  },
  {
   "cell_type": "code",
   "execution_count": null,
   "id": "953cb329",
   "metadata": {},
   "outputs": [],
   "source": [
    "print(\"Missing values in each column:\\n\")\n",
    "print(df.isnull().sum())\n",
    "df['Cuisines'].fillna('Unknown', inplace=True)"
   ]
  },
  {
   "cell_type": "markdown",
   "id": "742a92a8",
   "metadata": {},
   "source": [
    "*3. Perform data type conversion if necessary.*"
   ]
  },
  {
   "cell_type": "code",
   "execution_count": null,
   "id": "40cb03a1",
   "metadata": {},
   "outputs": [],
   "source": [
    "yes_no_cols = ['Has Table booking', 'Has Online delivery', 'Is delivering now', 'Switch to order menu']\n",
    "df[yes_no_cols] = df[yes_no_cols].applymap(lambda x: x.strip().lower() == 'yes')"
   ]
  },
  {
   "cell_type": "markdown",
   "id": "64a771ba",
   "metadata": {},
   "source": [
    "*4. Analyze the distribution of the target variable*"
   ]
  },
  {
   "cell_type": "code",
   "execution_count": null,
   "id": "49a74f55",
   "metadata": {},
   "outputs": [],
   "source": [
    "rating_counts = df['Aggregate rating'].value_counts().sort_index()\n",
    "\n",
    "# Plot distribution\n",
    "plt.figure(figsize=(10, 6))\n",
    "sns.barplot(x=rating_counts.index, y=rating_counts.values, palette=\"viridis\")\n",
    "plt.title(\"Distribution of Aggregate Rating\")\n",
    "plt.xlabel(\"Aggregate Rating\")\n",
    "plt.ylabel(\"Number of Restaurants\")\n",
    "plt.xticks(rotation=45)\n",
    "plt.grid(axis='y')\n",
    "plt.tight_layout()\n",
    "plt.show()\n",
    "\n",
    "# Print counts for reference\n",
    "print(rating_counts)"
   ]
  }
 ],
 "metadata": {
  "kernelspec": {
   "display_name": "Python 3",
   "language": "python",
   "name": "python3"
  },
  "language_info": {
   "codemirror_mode": {
    "name": "ipython",
    "version": 3
   },
   "file_extension": ".py",
   "mimetype": "text/x-python",
   "name": "python",
   "nbconvert_exporter": "python",
   "pygments_lexer": "ipython3",
   "version": "3.13.1"
  }
 },
 "nbformat": 4,
 "nbformat_minor": 5
}
