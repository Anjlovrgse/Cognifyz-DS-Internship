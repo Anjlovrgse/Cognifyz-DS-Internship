{
 "cells": [
  {
   "cell_type": "markdown",
   "id": "ead3b60a",
   "metadata": {},
   "source": [
    "**Task 3: Geospatial Analysis**\n",
    "\n",
    "1.Visualize the locations of restaurants on a map using latitude and longitude information.\n",
    "\n",
    "2.Analyze the distribution of restaurants across different cities or countries.\n",
    "\n",
    "3.Determine if there is any correlation between the restaurant's location and its rating."
   ]
  },
  {
   "cell_type": "code",
   "execution_count": null,
   "id": "935ebc0e",
   "metadata": {},
   "outputs": [],
   "source": [
    "#import modules and dataset\n",
    "\n",
    "import warnings\n",
    "warnings.filterwarnings(\"ignore\")\n",
    "import numpy as np\n",
    "import pandas as pd\n",
    "import matplotlib.pyplot as plt\n",
    "import seaborn as sns;sns.set(color_codes=True)\n",
    "%matplotlib inline\n",
    "\n",
    "df = pd.read_csv(r\"C:\\Users\\anjal\\OneDrive\\Desktop\\CODES\\Cognifyz DS Internship\\Dataset.csv\")"
   ]
  },
  {
   "cell_type": "markdown",
   "id": "124970f4",
   "metadata": {},
   "source": [
    "*1.Visualize the locations of restaurants on a map using latitude and longitude information.*"
   ]
  },
  {
   "cell_type": "code",
   "execution_count": null,
   "id": "95d89516",
   "metadata": {},
   "outputs": [],
   "source": [
    "import folium\n",
    "from folium.plugins import MarkerCluster\n",
    "\n",
    "\n",
    "map_center = [df['Latitude'].mean(), df['Longitude'].mean()]\n",
    "restaurant_map = folium.Map(location=map_center, zoom_start=2)\n",
    "\n",
    "\n",
    "marker_cluster = MarkerCluster().add_to(restaurant_map)\n",
    "\n",
    "\n",
    "for _, row in df.iterrows():\n",
    "    folium.Marker(\n",
    "        location=[row['Latitude'], row['Longitude']],\n",
    "        popup=row['Restaurant Name']\n",
    "    ).add_to(marker_cluster)\n",
    "\n",
    "\n",
    "restaurant_map\n"
   ]
  },
  {
   "cell_type": "markdown",
   "id": "2362880e",
   "metadata": {},
   "source": [
    "*2. Analyze the distribution of restaurants across different cities or countries.*"
   ]
  },
  {
   "cell_type": "code",
   "execution_count": null,
   "id": "77b1d72f",
   "metadata": {},
   "outputs": [],
   "source": [
    "#By City\n",
    "\n",
    "city_dist = df['City'].value_counts()\n",
    "print(\"Top 10 Cities with Most Restaurants:\\n\", city_dist.head(10))\n",
    "\n",
    "\n",
    "city_dist.head(10).plot(kind='barh', title='Top 10 Cities by Restaurant Count')\n"
   ]
  },
  {
   "cell_type": "code",
   "execution_count": null,
   "id": "425ce437",
   "metadata": {},
   "outputs": [],
   "source": [
    "#By Country\n",
    "\n",
    "\n",
    "country_map = {\n",
    "    1: \"India\", 14: \"Australia\", 30: \"Brazil\", 37: \"Canada\", 94: \"Indonesia\", \n",
    "    148: \"New Zealand\", 162: \"Philippines\", 166: \"Qatar\", 184: \"Singapore\", \n",
    "    189: \"South Africa\", 191: \"Sri Lanka\", 208: \"Turkey\", 214: \"UAE\", \n",
    "    215: \"United Kingdom\", 216: \"United States\"\n",
    "}\n",
    "\n",
    "df['Country'] = df['Country Code'].map(country_map)\n",
    "country_dist = df['Country'].value_counts()\n",
    "print(\"\\nRestaurant Count by Country:\\n\", country_dist)\n",
    "\n",
    "\n",
    "country_dist.plot(kind='bar', title='Restaurant Distribution by Country', figsize=(10,5))\n"
   ]
  },
  {
   "cell_type": "markdown",
   "id": "15ea45c6",
   "metadata": {},
   "source": [
    "*3. Determine if there is any correlation between the restaurant's location and its rating.*"
   ]
  },
  {
   "cell_type": "code",
   "execution_count": null,
   "id": "e0e25089",
   "metadata": {},
   "outputs": [],
   "source": [
    "# A. Use a scatter plot to visualize:\n",
    "\n",
    "import seaborn as sns\n",
    "import matplotlib.pyplot as plt\n",
    "\n",
    "plt.figure(figsize=(10, 6))\n",
    "sns.scatterplot(x='Longitude', y='Latitude', hue='Aggregate rating', data=df, palette='coolwarm')\n",
    "plt.title(\"Restaurant Locations Colored by Rating\")\n",
    "plt.show()"
   ]
  },
  {
   "cell_type": "code",
   "execution_count": null,
   "id": "b7c515fd",
   "metadata": {},
   "outputs": [],
   "source": [
    "# B. Or calculate correlation:\n",
    "\n",
    "correlations = df[['Latitude', 'Longitude', 'Aggregate rating']].corr()\n",
    "print(\"Correlation Matrix:\\n\", correlations)"
   ]
  }
 ],
 "metadata": {
  "kernelspec": {
   "display_name": "Python 3",
   "language": "python",
   "name": "python3"
  },
  "language_info": {
   "codemirror_mode": {
    "name": "ipython",
    "version": 3
   },
   "file_extension": ".py",
   "mimetype": "text/x-python",
   "name": "python",
   "nbconvert_exporter": "python",
   "pygments_lexer": "ipython3",
   "version": "3.13.1"
  }
 },
 "nbformat": 4,
 "nbformat_minor": 5
}
